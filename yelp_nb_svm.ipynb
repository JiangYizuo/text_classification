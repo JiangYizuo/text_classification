{
 "cells": [
  {
   "cell_type": "code",
   "execution_count": 1,
   "metadata": {
    "collapsed": false
   },
   "outputs": [
    {
     "data": {
      "text/html": [
       "<div>\n",
       "<table border=\"1\" class=\"dataframe\">\n",
       "  <thead>\n",
       "    <tr style=\"text-align: right;\">\n",
       "      <th></th>\n",
       "      <th>stars</th>\n",
       "      <th>cool</th>\n",
       "      <th>useful</th>\n",
       "      <th>funny</th>\n",
       "    </tr>\n",
       "  </thead>\n",
       "  <tbody>\n",
       "    <tr>\n",
       "      <th>count</th>\n",
       "      <td>10000.000000</td>\n",
       "      <td>10000.000000</td>\n",
       "      <td>10000.000000</td>\n",
       "      <td>10000.000000</td>\n",
       "    </tr>\n",
       "    <tr>\n",
       "      <th>mean</th>\n",
       "      <td>3.777500</td>\n",
       "      <td>0.876800</td>\n",
       "      <td>1.409300</td>\n",
       "      <td>0.701300</td>\n",
       "    </tr>\n",
       "    <tr>\n",
       "      <th>std</th>\n",
       "      <td>1.214636</td>\n",
       "      <td>2.067861</td>\n",
       "      <td>2.336647</td>\n",
       "      <td>1.907942</td>\n",
       "    </tr>\n",
       "    <tr>\n",
       "      <th>min</th>\n",
       "      <td>1.000000</td>\n",
       "      <td>0.000000</td>\n",
       "      <td>0.000000</td>\n",
       "      <td>0.000000</td>\n",
       "    </tr>\n",
       "    <tr>\n",
       "      <th>25%</th>\n",
       "      <td>3.000000</td>\n",
       "      <td>0.000000</td>\n",
       "      <td>0.000000</td>\n",
       "      <td>0.000000</td>\n",
       "    </tr>\n",
       "    <tr>\n",
       "      <th>50%</th>\n",
       "      <td>4.000000</td>\n",
       "      <td>0.000000</td>\n",
       "      <td>1.000000</td>\n",
       "      <td>0.000000</td>\n",
       "    </tr>\n",
       "    <tr>\n",
       "      <th>75%</th>\n",
       "      <td>5.000000</td>\n",
       "      <td>1.000000</td>\n",
       "      <td>2.000000</td>\n",
       "      <td>1.000000</td>\n",
       "    </tr>\n",
       "    <tr>\n",
       "      <th>max</th>\n",
       "      <td>5.000000</td>\n",
       "      <td>77.000000</td>\n",
       "      <td>76.000000</td>\n",
       "      <td>57.000000</td>\n",
       "    </tr>\n",
       "  </tbody>\n",
       "</table>\n",
       "</div>"
      ],
      "text/plain": [
       "              stars          cool        useful         funny\n",
       "count  10000.000000  10000.000000  10000.000000  10000.000000\n",
       "mean       3.777500      0.876800      1.409300      0.701300\n",
       "std        1.214636      2.067861      2.336647      1.907942\n",
       "min        1.000000      0.000000      0.000000      0.000000\n",
       "25%        3.000000      0.000000      0.000000      0.000000\n",
       "50%        4.000000      0.000000      1.000000      0.000000\n",
       "75%        5.000000      1.000000      2.000000      1.000000\n",
       "max        5.000000     77.000000     76.000000     57.000000"
      ]
     },
     "execution_count": 1,
     "metadata": {},
     "output_type": "execute_result"
    }
   ],
   "source": [
    "import numpy as np\n",
    "import matplotlib.pyplot as plt\n",
    "from sklearn import svm\n",
    "from sklearn.naive_bayes import MultinomialNB\n",
    "\n",
    "import pandas\n",
    "dataset = pandas.read_csv('data/yelp.csv')\n",
    "dataset.describe()\n"
   ]
  },
  {
   "cell_type": "code",
   "execution_count": 2,
   "metadata": {
    "collapsed": false
   },
   "outputs": [
    {
     "name": "stderr",
     "output_type": "stream",
     "text": [
      "/usr/local/lib/python2.7/dist-packages/sklearn/cross_validation.py:44: DeprecationWarning: This module was deprecated in version 0.18 in favor of the model_selection module into which all the refactored classes and functions are moved. Also note that the interface of the new CV iterators are different from that of this module. This module will be removed in 0.20.\n",
      "  \"This module will be removed in 0.20.\", DeprecationWarning)\n"
     ]
    }
   ],
   "source": [
    "from sklearn.cross_validation import train_test_split\n",
    "\n",
    "X_train, X_test, y_train, y_test = train_test_split (dataset.text, dataset.stars, random_state=1)"
   ]
  },
  {
   "cell_type": "code",
   "execution_count": 3,
   "metadata": {
    "collapsed": false
   },
   "outputs": [
    {
     "data": {
      "text/plain": [
       "MultinomialNB(alpha=1.0, class_prior=None, fit_prior=True)"
      ]
     },
     "execution_count": 3,
     "metadata": {},
     "output_type": "execute_result"
    }
   ],
   "source": [
    "#from sklearn.feature_extraction.text import CountVectorizer\n",
    "from sklearn.feature_extraction.text import TfidfVectorizer\n",
    "#cvect = CountVectorizer(stop_words = 'english', max_features = 2000)\n",
    "#Tfid works better with SVM than NB\n",
    "cvect = TfidfVectorizer(stop_words = 'english', max_features = 2000)\n",
    "cvect.fit(X_train)\n",
    "X = cvect.transform(X_train)\n",
    "X.shape\n",
    "y = y_train\n",
    "\n",
    "nb = MultinomialNB()\n",
    "nb.fit(X, y)"
   ]
  },
  {
   "cell_type": "code",
   "execution_count": 4,
   "metadata": {
    "collapsed": true
   },
   "outputs": [],
   "source": [
    "h = .02  # step size in the mesh\n",
    "C = 1.0  # SVM regularization parameter\n",
    "svc = svm.SVC(kernel='linear', C=C).fit(X, y)"
   ]
  },
  {
   "cell_type": "code",
   "execution_count": 5,
   "metadata": {
    "collapsed": true
   },
   "outputs": [],
   "source": [
    "rbf_svc = svm.SVC(kernel='rbf', gamma=0.7, C=C).fit(X, y)"
   ]
  },
  {
   "cell_type": "code",
   "execution_count": 6,
   "metadata": {
    "collapsed": false
   },
   "outputs": [],
   "source": [
    "poly_svc = svm.SVC(kernel='poly', degree=3, C=C).fit(X, y)"
   ]
  },
  {
   "cell_type": "code",
   "execution_count": 7,
   "metadata": {
    "collapsed": true
   },
   "outputs": [],
   "source": [
    "lin_svc = svm.LinearSVC(C=C).fit(X, y)"
   ]
  },
  {
   "cell_type": "code",
   "execution_count": 8,
   "metadata": {
    "collapsed": true
   },
   "outputs": [],
   "source": [
    "svr = svm.LinearSVR().fit(X, y)"
   ]
  },
  {
   "cell_type": "code",
   "execution_count": 9,
   "metadata": {
    "collapsed": false
   },
   "outputs": [],
   "source": [
    "X_test_dtm = cvect.transform(X_test)"
   ]
  },
  {
   "cell_type": "code",
   "execution_count": 10,
   "metadata": {
    "collapsed": true
   },
   "outputs": [],
   "source": [
    "# title for the plots\n",
    "titles = ['naive bayes',\n",
    "          'SVC with linear kernel',\n",
    "          'LinearSVC (linear kernel)',\n",
    "          'SVC with RBF kernel',\n",
    "          'SVC with polynomial (degree 3) kernel',\n",
    "          'LinearSVR']"
   ]
  },
  {
   "cell_type": "code",
   "execution_count": 11,
   "metadata": {
    "collapsed": false
   },
   "outputs": [],
   "source": [
    "from sklearn import metrics\n",
    "import math\n",
    "def accuracy_for_rating_prob(y_test, y_pred):\n",
    "\n",
    "    conf_matrix = metrics.confusion_matrix(y_test, y_pred)\n",
    "    divation = 0\n",
    "    l = 0\n",
    "    for line in conf_matrix:\n",
    "        l += 1\n",
    "        c = 0\n",
    "        for count in line: \n",
    "            c += 1\n",
    "            #Punish big divation more by using abs(c - l)*abs(c - l).\n",
    "            divation += (abs(c - l)*abs(c - l)) * count\n",
    "    divation_mean = float(divation) / float(y_test.size)\n",
    "     \n",
    "    return 1- (divation_mean / math.sqrt(conf_matrix.size))"
   ]
  },
  {
   "cell_type": "code",
   "execution_count": 12,
   "metadata": {
    "collapsed": false,
    "scrolled": true
   },
   "outputs": [
    {
     "name": "stdout",
     "output_type": "stream",
     "text": [
      "naive bayes\n",
      "0.4632\n",
      "rating problem accuracy is 0.70424\n",
      "[[ 43  16   6  69  51]\n",
      " [ 16   6   6 173  33]\n",
      " [  4   0   9 295  57]\n",
      " [  3   0   2 630 249]\n",
      " [  2   0   0 360 470]]\n",
      "\n",
      "\n",
      "SVC with linear kernel\n",
      "0.52\n",
      "rating problem accuracy is 0.77416\n",
      "[[ 79  38  16  25  27]\n",
      " [ 44  70  51  54  15]\n",
      " [ 15  32  93 170  55]\n",
      " [ 13  15  61 557 238]\n",
      " [ 13  10  18 290 501]]\n",
      "\n",
      "\n",
      "LinearSVC (linear kernel)\n",
      "0.496\n",
      "rating problem accuracy is 0.74768\n",
      "[[ 80  40  17  20  28]\n",
      " [ 40  72  46  44  32]\n",
      " [ 21  33  93 149  69]\n",
      " [ 19  18  94 481 272]\n",
      " [ 16  12  21 269 514]]\n",
      "\n",
      "\n",
      "SVC with RBF kernel\n",
      "0.5244\n",
      "rating problem accuracy is 0.7736\n",
      "[[ 68  31  11  49  26]\n",
      " [ 29  49  40  95  21]\n",
      " [ 12  12  65 218  58]\n",
      " [  3   2  24 620 235]\n",
      " [  7   2   4 310 509]]\n",
      "\n",
      "\n",
      "SVC with polynomial (degree 3) kernel\n",
      "0.3536\n",
      "rating problem accuracy is 0.69616\n",
      "[[  0   0   0 185   0]\n",
      " [  0   0   0 234   0]\n",
      " [  0   0   0 365   0]\n",
      " [  0   0   0 884   0]\n",
      " [  0   0   0 832   0]]\n",
      "\n",
      "\n",
      "LinearSVR\n",
      "0.4476\n",
      "rating problem accuracy is 0.81096\n",
      "[[ 22  60  72  31   0]\n",
      " [  8  63 121  41   1]\n",
      " [  3  29 156 149  28]\n",
      " [  0  15 149 548 172]\n",
      " [  0   3  75 424 330]]\n",
      "\n",
      "\n"
     ]
    }
   ],
   "source": [
    "\n",
    "for i, clf in enumerate((nb, svc, lin_svc, rbf_svc, poly_svc, svr)):\n",
    "    y_pred = clf.predict(X_test_dtm)\n",
    "    #Because the SVR returns a float array, we transform it into an interger one.\n",
    "    if clf == svr:\n",
    "        y_pred_int = [0] * y_pred.size\n",
    "        it = 0\n",
    "        for c in y_pred:\n",
    "            y_pred_int[it] = (int(c+0.5))\n",
    "            if y_pred_int[it] > 5:\n",
    "                y_pred_int[it] = 5\n",
    "            if y_pred_int[it] < 1:\n",
    "                y_pred_int[it] = 1\n",
    "            it += 1\n",
    "        y_pred = y_pred_int\n",
    "    print(titles[i])\n",
    "    print(metrics.accuracy_score(y_test, y_pred))\n",
    "    print(\"rating problem accuracy is \" + str(accuracy_for_rating_prob(y_test, y_pred)))\n",
    "    print(metrics.confusion_matrix(y_test, y_pred))\n",
    "    print('\\n')"
   ]
  },
  {
   "cell_type": "code",
   "execution_count": null,
   "metadata": {
    "collapsed": true
   },
   "outputs": [],
   "source": []
  }
 ],
 "metadata": {
  "kernelspec": {
   "display_name": "Python 2",
   "language": "python",
   "name": "python2"
  },
  "language_info": {
   "codemirror_mode": {
    "name": "ipython",
    "version": 2
   },
   "file_extension": ".py",
   "mimetype": "text/x-python",
   "name": "python",
   "nbconvert_exporter": "python",
   "pygments_lexer": "ipython2",
   "version": "2.7.12"
  }
 },
 "nbformat": 4,
 "nbformat_minor": 2
}
